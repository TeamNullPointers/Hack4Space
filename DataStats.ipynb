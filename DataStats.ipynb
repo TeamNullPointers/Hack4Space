{
 "cells": [
  {
   "cell_type": "code",
   "execution_count": 1,
   "metadata": {},
   "outputs": [],
   "source": [
    "import pandas as pd"
   ]
  },
  {
   "cell_type": "markdown",
   "metadata": {},
   "source": [
    "# ABoVE: Atmospheric Gas Concentrations from Airborne Flasks, Arctic-CAP, 2017\n",
    "This dataset provides atmospheric carbon dioxide (CO2), methane (CH4), carbon monoxide (CO), molecular hydrogen (H2), nitrous oxide (N2O), sulfur hexafluoride (SF6), and other trace gas mole fractions (i.e. \"concentrations\") from flights over Alaska and the Yukon and Northwest Territories of Canada during the Arctic Carbon Aircraft Profile (Arctic-CAP) monthly sampling campaigns from April-November 2017. The data were derived from laboratory measurements of whole air samples collected by Programmable Flask Packages (PFP) onboard the aircraft. During each of the six monthly campaigns, flights over the Arctic-Boreal Vulnerability Experiment (ABoVE) domain included 25 vertical profiles, from the surface up to 6 km altitude, at locations selected to complement regular long-term vertical profiles, remote sensing data, and ground-based flux tower measurements. Measurements were initiated by the aircraft pilot at predetermined locations within each profile in order to evenly distribute flask sampling points throughout each flight. A total of 408 flask samples were collected during 55 individual flights. The measurements included in this data set are crucial for understanding changes in Arctic carbon cycling and the potential threats posed by thawing of Arctic permafrost."
   ]
  },
  {
   "cell_type": "code",
   "execution_count": 2,
   "metadata": {},
   "outputs": [],
   "source": [
    "df = pd.read_csv(\"./data/ABoVE_Atmospheric_Flask_Data_1717/data/ABoVE_april-nov_2017_flask_data.csv\")\n"
   ]
  },
  {
   "cell_type": "code",
   "execution_count": 3,
   "metadata": {},
   "outputs": [
    {
     "data": {
      "text/plain": [
       "(408, 222)"
      ]
     },
     "execution_count": 3,
     "metadata": {},
     "output_type": "execute_result"
    }
   ],
   "source": [
    "df.shape"
   ]
  },
  {
   "cell_type": "code",
   "execution_count": null,
   "metadata": {},
   "outputs": [],
   "source": [
    "with pd.option_context('display.max_rows', None, 'display.max_columns', None):  # more options can be specified also\n"
   ]
  },
  {
   "cell_type": "code",
   "execution_count": 7,
   "metadata": {},
   "outputs": [
    {
     "data": {
      "text/html": [
       "<div>\n",
       "<style scoped>\n",
       "    .dataframe tbody tr th:only-of-type {\n",
       "        vertical-align: middle;\n",
       "    }\n",
       "\n",
       "    .dataframe tbody tr th {\n",
       "        vertical-align: top;\n",
       "    }\n",
       "\n",
       "    .dataframe thead th {\n",
       "        text-align: right;\n",
       "    }\n",
       "</style>\n",
       "<table border=\"1\" class=\"dataframe\">\n",
       "  <thead>\n",
       "    <tr style=\"text-align: right;\">\n",
       "      <th></th>\n",
       "      <th>count</th>\n",
       "      <th>unique</th>\n",
       "      <th>top</th>\n",
       "      <th>freq</th>\n",
       "      <th>mean</th>\n",
       "      <th>std</th>\n",
       "      <th>min</th>\n",
       "      <th>25%</th>\n",
       "      <th>50%</th>\n",
       "      <th>75%</th>\n",
       "      <th>max</th>\n",
       "    </tr>\n",
       "  </thead>\n",
       "  <tbody>\n",
       "    <tr>\n",
       "      <th>sample_year</th>\n",
       "      <td>408</td>\n",
       "      <td>NaN</td>\n",
       "      <td>NaN</td>\n",
       "      <td>NaN</td>\n",
       "      <td>2017</td>\n",
       "      <td>0</td>\n",
       "      <td>2017</td>\n",
       "      <td>2017</td>\n",
       "      <td>2017</td>\n",
       "      <td>2017</td>\n",
       "      <td>2017</td>\n",
       "    </tr>\n",
       "    <tr>\n",
       "      <th>sample_month</th>\n",
       "      <td>408</td>\n",
       "      <td>NaN</td>\n",
       "      <td>NaN</td>\n",
       "      <td>NaN</td>\n",
       "      <td>7.54412</td>\n",
       "      <td>1.77562</td>\n",
       "      <td>4</td>\n",
       "      <td>6</td>\n",
       "      <td>7</td>\n",
       "      <td>9</td>\n",
       "      <td>11</td>\n",
       "    </tr>\n",
       "    <tr>\n",
       "      <th>sample_day</th>\n",
       "      <td>408</td>\n",
       "      <td>NaN</td>\n",
       "      <td>NaN</td>\n",
       "      <td>NaN</td>\n",
       "      <td>15.7672</td>\n",
       "      <td>8.02007</td>\n",
       "      <td>1</td>\n",
       "      <td>9</td>\n",
       "      <td>17</td>\n",
       "      <td>21</td>\n",
       "      <td>31</td>\n",
       "    </tr>\n",
       "    <tr>\n",
       "      <th>sample_hour</th>\n",
       "      <td>408</td>\n",
       "      <td>NaN</td>\n",
       "      <td>NaN</td>\n",
       "      <td>NaN</td>\n",
       "      <td>17.6324</td>\n",
       "      <td>6.78574</td>\n",
       "      <td>0</td>\n",
       "      <td>18</td>\n",
       "      <td>20</td>\n",
       "      <td>21</td>\n",
       "      <td>23</td>\n",
       "    </tr>\n",
       "    <tr>\n",
       "      <th>sample_minute</th>\n",
       "      <td>408</td>\n",
       "      <td>NaN</td>\n",
       "      <td>NaN</td>\n",
       "      <td>NaN</td>\n",
       "      <td>28.6176</td>\n",
       "      <td>17.1875</td>\n",
       "      <td>0</td>\n",
       "      <td>14</td>\n",
       "      <td>28</td>\n",
       "      <td>42</td>\n",
       "      <td>59</td>\n",
       "    </tr>\n",
       "    <tr>\n",
       "      <th>...</th>\n",
       "      <td>...</td>\n",
       "      <td>...</td>\n",
       "      <td>...</td>\n",
       "      <td>...</td>\n",
       "      <td>...</td>\n",
       "      <td>...</td>\n",
       "      <td>...</td>\n",
       "      <td>...</td>\n",
       "      <td>...</td>\n",
       "      <td>...</td>\n",
       "      <td>...</td>\n",
       "    </tr>\n",
       "    <tr>\n",
       "      <th>SF6_HATS_analysis_flag</th>\n",
       "      <td>408</td>\n",
       "      <td>3</td>\n",
       "      <td>...</td>\n",
       "      <td>341</td>\n",
       "      <td>NaN</td>\n",
       "      <td>NaN</td>\n",
       "      <td>NaN</td>\n",
       "      <td>NaN</td>\n",
       "      <td>NaN</td>\n",
       "      <td>NaN</td>\n",
       "      <td>NaN</td>\n",
       "    </tr>\n",
       "    <tr>\n",
       "      <th>SO2F2_parameter_formula</th>\n",
       "      <td>408</td>\n",
       "      <td>1</td>\n",
       "      <td>SO2F2</td>\n",
       "      <td>408</td>\n",
       "      <td>NaN</td>\n",
       "      <td>NaN</td>\n",
       "      <td>NaN</td>\n",
       "      <td>NaN</td>\n",
       "      <td>NaN</td>\n",
       "      <td>NaN</td>\n",
       "      <td>NaN</td>\n",
       "    </tr>\n",
       "    <tr>\n",
       "      <th>SO2F2_analysis_group_abbr</th>\n",
       "      <td>408</td>\n",
       "      <td>1</td>\n",
       "      <td>HATS</td>\n",
       "      <td>408</td>\n",
       "      <td>NaN</td>\n",
       "      <td>NaN</td>\n",
       "      <td>NaN</td>\n",
       "      <td>NaN</td>\n",
       "      <td>NaN</td>\n",
       "      <td>NaN</td>\n",
       "      <td>NaN</td>\n",
       "    </tr>\n",
       "    <tr>\n",
       "      <th>SO2F2_analysis_value</th>\n",
       "      <td>408</td>\n",
       "      <td>NaN</td>\n",
       "      <td>NaN</td>\n",
       "      <td>NaN</td>\n",
       "      <td>-5.19532</td>\n",
       "      <td>85.7238</td>\n",
       "      <td>-999.99</td>\n",
       "      <td>2.155</td>\n",
       "      <td>2.1975</td>\n",
       "      <td>2.24025</td>\n",
       "      <td>2.455</td>\n",
       "    </tr>\n",
       "    <tr>\n",
       "      <th>SO2F2_analysis_flag</th>\n",
       "      <td>408</td>\n",
       "      <td>4</td>\n",
       "      <td>...</td>\n",
       "      <td>341</td>\n",
       "      <td>NaN</td>\n",
       "      <td>NaN</td>\n",
       "      <td>NaN</td>\n",
       "      <td>NaN</td>\n",
       "      <td>NaN</td>\n",
       "      <td>NaN</td>\n",
       "      <td>NaN</td>\n",
       "    </tr>\n",
       "  </tbody>\n",
       "</table>\n",
       "<p>222 rows × 11 columns</p>\n",
       "</div>"
      ],
      "text/plain": [
       "                          count unique    top freq     mean      std     min  \\\n",
       "sample_year                 408    NaN    NaN  NaN     2017        0    2017   \n",
       "sample_month                408    NaN    NaN  NaN  7.54412  1.77562       4   \n",
       "sample_day                  408    NaN    NaN  NaN  15.7672  8.02007       1   \n",
       "sample_hour                 408    NaN    NaN  NaN  17.6324  6.78574       0   \n",
       "sample_minute               408    NaN    NaN  NaN  28.6176  17.1875       0   \n",
       "...                         ...    ...    ...  ...      ...      ...     ...   \n",
       "SF6_HATS_analysis_flag      408      3    ...  341      NaN      NaN     NaN   \n",
       "SO2F2_parameter_formula     408      1  SO2F2  408      NaN      NaN     NaN   \n",
       "SO2F2_analysis_group_abbr   408      1   HATS  408      NaN      NaN     NaN   \n",
       "SO2F2_analysis_value        408    NaN    NaN  NaN -5.19532  85.7238 -999.99   \n",
       "SO2F2_analysis_flag         408      4    ...  341      NaN      NaN     NaN   \n",
       "\n",
       "                             25%     50%      75%    max  \n",
       "sample_year                 2017    2017     2017   2017  \n",
       "sample_month                   6       7        9     11  \n",
       "sample_day                     9      17       21     31  \n",
       "sample_hour                   18      20       21     23  \n",
       "sample_minute                 14      28       42     59  \n",
       "...                          ...     ...      ...    ...  \n",
       "SF6_HATS_analysis_flag       NaN     NaN      NaN    NaN  \n",
       "SO2F2_parameter_formula      NaN     NaN      NaN    NaN  \n",
       "SO2F2_analysis_group_abbr    NaN     NaN      NaN    NaN  \n",
       "SO2F2_analysis_value       2.155  2.1975  2.24025  2.455  \n",
       "SO2F2_analysis_flag          NaN     NaN      NaN    NaN  \n",
       "\n",
       "[222 rows x 11 columns]"
      ]
     },
     "execution_count": 7,
     "metadata": {},
     "output_type": "execute_result"
    }
   ],
   "source": [
    "df.describe(include=\"all\").T"
   ]
  },
  {
   "cell_type": "code",
   "execution_count": 8,
   "metadata": {},
   "outputs": [
    {
     "data": {
      "text/plain": [
       "Index(['sample_year', 'sample_month', 'sample_day', 'sample_hour',\n",
       "       'sample_minute', 'sample_seconds', 'sample_id', 'sample_method',\n",
       "       'sample_latitude', 'sample_longitude',\n",
       "       ...\n",
       "       'SF6_CCGG_analysis_value', 'SF6_CCGG_analysis_flag',\n",
       "       'SF6_HATS_parameter_formula', 'SF6_HATS_analysis_group_abbr',\n",
       "       'SF6_HATS_analysis_value', 'SF6_HATS_analysis_flag',\n",
       "       'SO2F2_parameter_formula', 'SO2F2_analysis_group_abbr',\n",
       "       'SO2F2_analysis_value', 'SO2F2_analysis_flag'],\n",
       "      dtype='object', length=222)"
      ]
     },
     "execution_count": 8,
     "metadata": {},
     "output_type": "execute_result"
    }
   ],
   "source": [
    "df.columns"
   ]
  },
  {
   "cell_type": "code",
   "execution_count": null,
   "metadata": {},
   "outputs": [],
   "source": []
  },
  {
   "cell_type": "code",
   "execution_count": null,
   "metadata": {},
   "outputs": [],
   "source": []
  },
  {
   "cell_type": "code",
   "execution_count": null,
   "metadata": {},
   "outputs": [],
   "source": []
  }
 ],
 "metadata": {
  "kernelspec": {
   "display_name": "Python 3",
   "language": "python",
   "name": "python3"
  },
  "language_info": {
   "codemirror_mode": {
    "name": "ipython",
    "version": 3
   },
   "file_extension": ".py",
   "mimetype": "text/x-python",
   "name": "python",
   "nbconvert_exporter": "python",
   "pygments_lexer": "ipython3",
   "version": "3.8.5"
  }
 },
 "nbformat": 4,
 "nbformat_minor": 4
}
