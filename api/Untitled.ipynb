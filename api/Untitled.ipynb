{
 "cells": [
  {
   "cell_type": "code",
   "execution_count": 1,
   "id": "e9acdcff",
   "metadata": {},
   "outputs": [],
   "source": [
    "from flask import Flask\n",
    "from flask_restful import Resource, Api\n",
    "import requests\n",
    "import requests_cache\n",
    "import os\n",
    "import configparser\n",
    "from pathlib import Path\n",
    "import urllib.request\n",
    "from concurrent.futures import ThreadPoolExecutor, as_completed"
   ]
  },
  {
   "cell_type": "code",
   "execution_count": 3,
   "id": "21d40765",
   "metadata": {},
   "outputs": [],
   "source": [
    "requests_cache.install_cache('epa_cache', backend='sqlite', expire_after=180000)\n"
   ]
  },
  {
   "cell_type": "code",
   "execution_count": 7,
   "id": "be8248e5",
   "metadata": {},
   "outputs": [],
   "source": [
    "start_year=1999"
   ]
  },
  {
   "cell_type": "code",
   "execution_count": 15,
   "id": "f4007a7c",
   "metadata": {},
   "outputs": [],
   "source": [
    "end_year=2021"
   ]
  },
  {
   "cell_type": "code",
   "execution_count": 16,
   "id": "05269182",
   "metadata": {},
   "outputs": [],
   "source": [
    "diff = range(start_year, end_year)\n",
    "all_years = list(diff)"
   ]
  },
  {
   "cell_type": "code",
   "execution_count": 17,
   "id": "0910595b",
   "metadata": {},
   "outputs": [
    {
     "data": {
      "text/plain": [
       "[1999,\n",
       " 2000,\n",
       " 2001,\n",
       " 2002,\n",
       " 2003,\n",
       " 2004,\n",
       " 2005,\n",
       " 2006,\n",
       " 2007,\n",
       " 2008,\n",
       " 2009,\n",
       " 2010,\n",
       " 2011,\n",
       " 2012,\n",
       " 2013,\n",
       " 2014,\n",
       " 2015,\n",
       " 2016,\n",
       " 2017,\n",
       " 2018,\n",
       " 2019,\n",
       " 2020]"
      ]
     },
     "execution_count": 17,
     "metadata": {},
     "output_type": "execute_result"
    }
   ],
   "source": [
    "all_years"
   ]
  },
  {
   "cell_type": "code",
   "execution_count": 28,
   "id": "15cdc308",
   "metadata": {},
   "outputs": [],
   "source": [
    "all_date_tuples = []\n",
    "start_date = \"010120{YY}\"\n",
    "end_date=\"123120{YY}\"\n",
    "for YY in all_years:\n",
    "    date_args = (start_date.format(YY=YY), end_date.format(YY=YY))\n",
    "    all_date_tuples.append(date_args)"
   ]
  },
  {
   "cell_type": "code",
   "execution_count": 29,
   "id": "6cdaa6c3",
   "metadata": {},
   "outputs": [
    {
     "data": {
      "text/plain": [
       "[('0101201999', '1231201999'),\n",
       " ('0101202000', '1231202000'),\n",
       " ('0101202001', '1231202001'),\n",
       " ('0101202002', '1231202002'),\n",
       " ('0101202003', '1231202003'),\n",
       " ('0101202004', '1231202004'),\n",
       " ('0101202005', '1231202005'),\n",
       " ('0101202006', '1231202006'),\n",
       " ('0101202007', '1231202007'),\n",
       " ('0101202008', '1231202008'),\n",
       " ('0101202009', '1231202009'),\n",
       " ('0101202010', '1231202010'),\n",
       " ('0101202011', '1231202011'),\n",
       " ('0101202012', '1231202012'),\n",
       " ('0101202013', '1231202013'),\n",
       " ('0101202014', '1231202014'),\n",
       " ('0101202015', '1231202015'),\n",
       " ('0101202016', '1231202016'),\n",
       " ('0101202017', '1231202017'),\n",
       " ('0101202018', '1231202018'),\n",
       " ('0101202019', '1231202019'),\n",
       " ('0101202020', '1231202020')]"
      ]
     },
     "execution_count": 29,
     "metadata": {},
     "output_type": "execute_result"
    }
   ],
   "source": [
    "all_date_tuples"
   ]
  },
  {
   "cell_type": "code",
   "execution_count": null,
   "id": "3b243512",
   "metadata": {},
   "outputs": [],
   "source": []
  }
 ],
 "metadata": {
  "kernelspec": {
   "display_name": "Python 3",
   "language": "python",
   "name": "python3"
  },
  "language_info": {
   "codemirror_mode": {
    "name": "ipython",
    "version": 3
   },
   "file_extension": ".py",
   "mimetype": "text/x-python",
   "name": "python",
   "nbconvert_exporter": "python",
   "pygments_lexer": "ipython3",
   "version": "3.8.5"
  }
 },
 "nbformat": 4,
 "nbformat_minor": 5
}
